{
 "cells": [
  {
   "cell_type": "code",
   "execution_count": 1,
   "metadata": {},
   "outputs": [],
   "source": [
    "import numpy as np\n",
    "import growth_simulations as g\n",
    "import os\n",
    "import scipy\n",
    "import time\n",
    "# import seaborn as sns\n",
    "import weakref\n",
    "import matplotlib\n",
    "import matplotlib.pyplot as plt\n",
    "import scipy.stats\n",
    "# sns.set_style(\"whitegrid\")"
   ]
  },
  {
   "cell_type": "code",
   "execution_count": 2,
   "metadata": {},
   "outputs": [],
   "source": [
    "%load_ext autoreload"
   ]
  },
  {
   "cell_type": "code",
   "execution_count": 3,
   "metadata": {},
   "outputs": [],
   "source": [
    "%autoreload 2"
   ]
  },
  {
   "cell_type": "code",
   "execution_count": 35,
   "metadata": {},
   "outputs": [],
   "source": [
    "def jiseon_model_2(l, beta, sigma_l, alpha):\n",
    "    num = beta*np.log(2-2*alpha+alpha/beta)**2+(1-beta)*(np.log(2-2*alpha+alpha/(1-beta)))**2\n",
    "    denom = beta*np.log(2-2*alpha+alpha/beta)+(1-beta)*(np.log(2-2*alpha+alpha/(1-beta)))\n",
    "    return l*(1-sigma_l**2/l**2*(1+0.5*num/denom))"
   ]
  },
  {
   "cell_type": "code",
   "execution_count": 25,
   "metadata": {},
   "outputs": [],
   "source": [
    "# # Setting simulation parameters\n",
    "l = np.array([1.0])\n",
    "td_std = np.array([0.0])  # 1\n",
    "lambda_std = np.linspace(0.0, 0.3, num=16)  # 11\n",
    "delta = np.array([1.0])\n",
    "beta = np.linspace(0.025, 0.5, num=20)  # 20\n",
    "r = beta/(1-beta)\n",
    "x=1-2*beta\n",
    "alpha = np.linspace(0.0,1.0,6)  # 1\n",
    "epsilon=np.array([0.0])\n",
    "\n",
    "num_rep = 100  # number of repeats\n",
    "# # should give 32000 repeats. Run with 800 job array.\n",
    "# # should take around 8 hours (480min).49899542\n",
    "par_vals = {'nstep': 900, 'dt': 0.01, 'v_init': 1.0, 'modeltype': 14, 'delta': delta[0], 'lambda': l[0]}\n",
    "X = [len(td_std), len(lambda_std), len(beta), len(alpha), len(epsilon), num_rep]\n",
    "i0,i1,i2,i3,i4=0,10,11,0,0\n",
    "par_vals['td_std']=td_std[i0]\n",
    "par_vals['lambda_std']=lambda_std[i1]\n",
    "par_vals['r']=beta[i2]/(1-beta[i2])\n",
    "par_vals['f']=alpha[i3]\n",
    "par_vals['epsilon']=epsilon[i4]\n",
    "par_vals['T2']=0.0\n",
    "par_vals['exp_n']=4\n"
   ]
  },
  {
   "cell_type": "code",
   "execution_count": 26,
   "metadata": {},
   "outputs": [
    {
     "name": "stdout",
     "output_type": "stream",
     "text": [
      "Time taken =118.88s\n"
     ]
    }
   ],
   "source": [
    "tic=time.clock()\n",
    "init_pop = g.starting_popn(par_vals)\n",
    "par_vals['nstep']=500  # seeding the population with a simulated one\n",
    "c, obs, [temp_vols, temp_vols_G1] = g.discr_time_1(par_vals, init_pop)\n",
    "init_pop = g.starting_popn_seeded(c, par_vals)\n",
    "par_vals['nstep'] = 900  # now we run this simulation for longer with a better seeded population.\n",
    "c, obs, [temp_vols, temp_vols_G1] = g.discr_time_1(par_vals, init_pop)\n",
    "print 'Time taken ={0}s'.format(np.around(time.clock()-tic,2))"
   ]
  },
  {
   "cell_type": "code",
   "execution_count": 27,
   "metadata": {},
   "outputs": [
    {
     "name": "stdout",
     "output_type": "stream",
     "text": [
      "{'td_std': 0.0, 'lambda_std': 0.2, 'f': 0.0, 'epsilon': 0.0, 'exp_n': 4, 'T2': 0.0, 'v_init': 1.0, 'modeltype': 14, 'r': 0.4285714285714286, 'delta': 1.0, 'dt': 0.01, 'nstep': 900, 'lambda': 1.0}\n",
      "0.9778763935526367\n",
      "0.9771533043672094\n"
     ]
    }
   ],
   "source": [
    "print par_vals\n",
    "temp = scipy.stats.linregress(obs[1][400:], np.log(obs[7][400:]))\n",
    "print temp[0]  # GR vol\n",
    "print jiseon_model_2(par_vals['lambda'], par_vals['r']/(1+par_vals['r']), par_vals['lambda_std'], 1-par_vals['f']/2)"
   ]
  },
  {
   "cell_type": "code",
   "execution_count": 28,
   "metadata": {},
   "outputs": [
    {
     "name": "stdout",
     "output_type": "stream",
     "text": [
      "0.08886322701054931\n"
     ]
    }
   ],
   "source": [
    "i6=1\n",
    "xv = [obj.vb for obj in c if obj.celltype == i6 and obj.tb>400* par_vals['dt'] * np.log(2)/par_vals['lambda']]        \n",
    "yv = [obj.vd for obj in c if obj.celltype == i6 and obj.tb>400* par_vals['dt'] * np.log(2)/par_vals['lambda']]\n",
    "temp = scipy.stats.linregress(xv, yv)\n",
    "print temp[0]"
   ]
  },
  {
   "cell_type": "code",
   "execution_count": null,
   "metadata": {},
   "outputs": [],
   "source": []
  }
 ],
 "metadata": {
  "kernelspec": {
   "display_name": "Python 2",
   "language": "python",
   "name": "python2"
  },
  "language_info": {
   "codemirror_mode": {
    "name": "ipython",
    "version": 2
   },
   "file_extension": ".py",
   "mimetype": "text/x-python",
   "name": "python",
   "nbconvert_exporter": "python",
   "pygments_lexer": "ipython2",
   "version": "2.7.17"
  }
 },
 "nbformat": 4,
 "nbformat_minor": 2
}
