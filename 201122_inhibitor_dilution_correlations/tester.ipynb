{
 "cells": [
  {
   "cell_type": "code",
   "execution_count": 24,
   "metadata": {},
   "outputs": [],
   "source": [
    "import numpy as np\n",
    "import growth_simulations as g\n",
    "import os\n",
    "import scipy\n",
    "import time\n",
    "import weakref\n",
    "import matplotlib.pyplot as plt"
   ]
  },
  {
   "cell_type": "code",
   "execution_count": 2,
   "metadata": {},
   "outputs": [],
   "source": [
    "%load_ext autoreload"
   ]
  },
  {
   "cell_type": "code",
   "execution_count": 3,
   "metadata": {},
   "outputs": [],
   "source": [
    "%autoreload 2"
   ]
  },
  {
   "cell_type": "code",
   "execution_count": 13,
   "metadata": {},
   "outputs": [],
   "source": [
    "\n",
    "# # Setting simulation parameters\n",
    "l = np.array([1.0])\n",
    "td_std = np.linspace(0.0, 0.1, 5)  # 3\n",
    "lambda_std = np.linspace(0.0, 0.1, num=2)  # 3\n",
    "delta = np.array([1.0])\n",
    "beta = np.linspace(0.025, 0.5, num=20)  # 20\n",
    "r = beta/(1-beta)\n",
    "alpha = np.linspace(0.0, 1.0, num=6)  # 11\n",
    "num_rep = 100  # number of repeats\n",
    "# # should give 120000 repeats. Run with 2400 job array.\n",
    "# # should take around 7 hours.4267922. 4325933\n",
    "\n",
    "par_vals = {'nstep': 900, 'dt': 0.01, 'v_init': 1.0, 'modeltype': 14, 'delta': delta[0], 'lambda': l[0], 'exp_n':4, 'T2':0.0, 'epsilon':0.0}"
   ]
  },
  {
   "cell_type": "code",
   "execution_count": 42,
   "metadata": {},
   "outputs": [],
   "source": [
    "ind=67\n",
    "X = [len(td_std), len(lambda_std), len(beta), len(alpha), num_rep]\n",
    "ind1 = np.unravel_index(ind,X)  # this is the index in the saved array that we must go through\n",
    "par_vals['td_std'] = 0.0\n",
    "par_vals['lambda_std']=0.2\n",
    "par_vals['r']=0.5\n",
    "par_vals['f']=alpha[ind1[3]]\n",
    "# running the actual simulation\n",
    "init_pop = g.starting_popn(par_vals)\n",
    "par_vals['nstep']=500  # seeding the population with a simulated one\n",
    "c, obs, [temp_vols, temp_vols_G1] = g.discr_time_1(par_vals, init_pop)\n",
    "init_pop = g.starting_popn_seeded(c, par_vals)\n",
    "par_vals['nstep'] = 900  # now we run this simulation for longer with a better seeded population.\n",
    "c, obs, [temp_vols, temp_vols_G1] = g.discr_time_1(par_vals, init_pop)\n"
   ]
  },
  {
   "cell_type": "code",
   "execution_count": 43,
   "metadata": {},
   "outputs": [
    {
     "data": {
      "text/plain": [
       "{'T2': 0.0,\n",
       " 'delta': 1.0,\n",
       " 'dt': 0.01,\n",
       " 'epsilon': 0.0,\n",
       " 'exp_n': 4,\n",
       " 'f': 0.0,\n",
       " 'lambda': 1.0,\n",
       " 'lambda_std': 0.2,\n",
       " 'modeltype': 14,\n",
       " 'nstep': 900,\n",
       " 'r': 0.5,\n",
       " 'td_std': 0.0,\n",
       " 'v_init': 1.0}"
      ]
     },
     "execution_count": 43,
     "metadata": {},
     "output_type": "execute_result"
    }
   ],
   "source": [
    "par_vals"
   ]
  },
  {
   "cell_type": "code",
   "execution_count": 44,
   "metadata": {},
   "outputs": [],
   "source": [
    "i6=1\n",
    "xv = [obj.vb for obj in c if obj.celltype == i6 and obj.tb>400* par_vals['dt'] * np.log(2)/par_vals['lambda']]\n",
    "yv = [obj.vd for obj in c if obj.celltype == i6 and obj.tb>400* par_vals['dt'] * np.log(2)/par_vals['lambda']]\n",
    "temp = scipy.stats.linregress(xv, yv)"
   ]
  },
  {
   "cell_type": "code",
   "execution_count": 45,
   "metadata": {},
   "outputs": [
    {
     "data": {
      "text/plain": [
       "LinregressResult(slope=0.09666910127574298, intercept=0.482963907050466, rvalue=0.6904195433161852, pvalue=0.0, stderr=0.00047976928029097566)"
      ]
     },
     "execution_count": 45,
     "metadata": {},
     "output_type": "execute_result"
    }
   ],
   "source": [
    "temp"
   ]
  },
  {
   "cell_type": "code",
   "execution_count": 46,
   "metadata": {},
   "outputs": [
    {
     "data": {
      "text/plain": [
       "[<matplotlib.lines.Line2D at 0x7fe08cb7f6d0>]"
      ]
     },
     "execution_count": 46,
     "metadata": {},
     "output_type": "execute_result"
    },
    {
     "data": {
      "image/png": "[encoded data removed]",
      "text/plain": [
       "<Figure size 432x288 with 1 Axes>"
      ]
     },
     "metadata": {
      "needs_background": "light"
     },
     "output_type": "display_data"
    }
   ],
   "source": [
    "plt.plot(xv,yv, '.')"
   ]
  },
  {
   "cell_type": "code",
   "execution_count": 47,
   "metadata": {},
   "outputs": [],
   "source": [
    "temp = scipy.stats.linregress(obs[1][400:], np.log(obs[12][400:]))\n"
   ]
  },
  {
   "cell_type": "code",
   "execution_count": 48,
   "metadata": {},
   "outputs": [
    {
     "data": {
      "text/plain": [
       "LinregressResult(slope=0.975545653705156, intercept=3.5257237277824007, rvalue=0.9999965513201543, pvalue=0.0, stderr=0.0001146937852936091)"
      ]
     },
     "execution_count": 48,
     "metadata": {},
     "output_type": "execute_result"
    }
   ],
   "source": [
    "temp"
   ]
  },
  {
   "cell_type": "code",
   "execution_count": 53,
   "metadata": {},
   "outputs": [],
   "source": [
    "x=(1-0.5)/1.5"
   ]
  },
  {
   "cell_type": "code",
   "execution_count": 54,
   "metadata": {},
   "outputs": [
    {
     "data": {
      "text/plain": [
       "0.3333333333333333"
      ]
     },
     "execution_count": 54,
     "metadata": {},
     "output_type": "execute_result"
    }
   ],
   "source": [
    "x"
   ]
  },
  {
   "cell_type": "code",
   "execution_count": 55,
   "metadata": {},
   "outputs": [],
   "source": [
    "def jiseon_model_2(l, beta, sigma_l, alpha):\n",
    "    num = beta*np.log(2-2*alpha+alpha/beta)**2+(1-beta)*(np.log(2-2*alpha+alpha/(1-beta)))**2\n",
    "    denom = beta*np.log(2-2*alpha+alpha/beta)+(1-beta)*(np.log(2-2*alpha+alpha/(1-beta)))\n",
    "    return l*(1+sigma_l**2/l**2*(-1+0.5*num/denom))"
   ]
  },
  {
   "cell_type": "code",
   "execution_count": 58,
   "metadata": {},
   "outputs": [
    {
     "data": {
      "text/plain": [
       "0.9760850346579937"
      ]
     },
     "execution_count": 58,
     "metadata": {},
     "output_type": "execute_result"
    }
   ],
   "source": [
    "jiseon_model_2(1.0,0.5*(1.0-x), 0.2, 1.0)"
   ]
  },
  {
   "cell_type": "code",
   "execution_count": 59,
   "metadata": {},
   "outputs": [
    {
     "data": {
      "text/plain": [
       "0.9771533043672094"
      ]
     },
     "execution_count": 59,
     "metadata": {},
     "output_type": "execute_result"
    }
   ],
   "source": [
    "jiseon_model_2(1.0,0.3, 0.2, 1.0)"
   ]
  },
  {
   "cell_type": "code",
   "execution_count": null,
   "metadata": {},
   "outputs": [],
   "source": []
  }
 ],
 "metadata": {
  "kernelspec": {
   "display_name": "Python 2",
   "language": "python",
   "name": "python2"
  },
  "language_info": {
   "codemirror_mode": {
    "name": "ipython",
    "version": 2
   },
   "file_extension": ".py",
   "mimetype": "text/x-python",
   "name": "python",
   "nbconvert_exporter": "python",
   "pygments_lexer": "ipython2",
   "version": "2.7.17"
  }
 },
 "nbformat": 4,
 "nbformat_minor": 2
}
