{
 "cells": [
  {
   "cell_type": "code",
   "execution_count": 24,
   "metadata": {},
   "outputs": [],
   "source": [
    "import numpy as np\n",
    "import scipy\n",
    "import scipy.stats\n",
    "import matplotlib.pyplot as plt\n",
    "import growth_simulations as g\n",
    "import seaborn as sns\n",
    "import time\n",
    "from matplotlib import rc\n",
    "rc('text', usetex=False)\n",
    "# font = {'weight' : 'bold',\n",
    "#         'size'   : 22}\t\n",
    "# plt.rc('font', **font)\n",
    "import seaborn as sns\n",
    "from sklearn.neighbors import KernelDensity\n",
    "# from sklearn.grid_search import GridSearchCV\n",
    "import scipy.integrate as integrate"
   ]
  },
  {
   "cell_type": "code",
   "execution_count": 25,
   "metadata": {},
   "outputs": [
    {
     "name": "stdout",
     "output_type": "stream",
     "text": [
      "The autoreload extension is already loaded. To reload it, use:\n",
      "  %reload_ext autoreload\n"
     ]
    }
   ],
   "source": [
    "%load_ext autoreload\n",
    "%autoreload 2"
   ]
  },
  {
   "cell_type": "code",
   "execution_count": 37,
   "metadata": {},
   "outputs": [
    {
     "name": "stdout",
     "output_type": "stream",
     "text": [
      "[1, 1, 1, 2]\n"
     ]
    }
   ],
   "source": [
    "l = np.array([1.0])\n",
    "td_std = np.array([0.0])\n",
    "l_std = np.array([0.2])\n",
    "delta = np.array([1.0])\n",
    "# beta = np.linspace(0.05, 0.5, num=10) # 9\n",
    "beta = np.array([0.3])\n",
    "r = beta/(1-beta)\n",
    "alpha = np.array([1.0]) # 5\n",
    "tic=time.clock()\n",
    "num_rep = 1\n",
    "X = [len(beta), len(alpha), num_rep]\n",
    "num_celltypes = 3  #mother, daughter, full_pop\n",
    "a_shape = X+[2]  # zero for simulations, one for numerical estimation based on E-L equation.\n",
    "print a_shape\n",
    "celltype = ['Mother', 'Daughter', 'Population']\n",
    "params = {'nstep': 1200, 'dt': 0.01, 'v_init': 1.0, 'modeltype': 7, 'delta': delta[0], 'lambda': l[0],\n",
    "            'td_std': td_std[0], 'lambda_std': l_std[0]}\n"
   ]
  },
  {
   "cell_type": "code",
   "execution_count": 38,
   "metadata": {},
   "outputs": [
    {
     "name": "stdout",
     "output_type": "stream",
     "text": [
      "Done L: 0\n",
      "Done L: 10\n",
      "Done L: 20\n",
      "Done L: 30\n",
      "Done L: 40\n",
      "Done L: 50\n",
      "Done L: 60\n",
      "I have done 1 parameter sets. time taken: 1606082821.26\n",
      "beta 0.3 alpha 1.0 repeat 0\n",
      "[0.97466241 0.977     ]\n"
     ]
    }
   ],
   "source": [
    "output_val = np.zeros(a_shape)\n",
    "temp3=1\n",
    "bw = 0.001\n",
    "L=np.linspace(0.97,1.0,61)\n",
    "for i0 in range(temp3):\n",
    "    inds=np.unravel_index(i0,X)\n",
    "    # setting the parameters\n",
    "    params['r']=beta[inds[0]] / (1 - beta[inds[0]])\n",
    "    params['alpha']=alpha[inds[1]]\n",
    "    # doing the simulation\n",
    "    init_pop = g.starting_popn(params)\n",
    "\n",
    "    params['nstep'] = 500  # seeding the population with a simulated one\n",
    "    c, obs, [temp_vols, temp_vols_G1] = g.discr_time_1(params, init_pop)\n",
    "    init_pop = g.starting_popn_seeded(c, params)\n",
    "    params['nstep'] = 900  # now we run this simulation for longer with a better seeded population.\n",
    "    c, obs, [temp_vols, temp_vols_G1] = g.discr_time_1(params, init_pop)\n",
    "\n",
    "    # calculating the simulation population growth rate and storing it\n",
    "    temp = scipy.stats.linregress(obs[1][400:], np.log(obs[12][400:]))\n",
    "    output_val[inds[0],inds[1],inds[2],0]=temp[0]\n",
    "    # calculating the kernel density estimation\n",
    "    kde1= KernelDensity(bandwidth=bw,kernel='gaussian')\n",
    "    kde2= KernelDensity(bandwidth=bw,kernel='gaussian')\n",
    "    t1=np.array([obj.t_grow for obj in c[10**4:] if obj.celltype==0 and obj.tb>400* params['dt'] * np.log(2)/params['lambda']]).reshape(-1,1)\n",
    "    t2=np.array([obj.t_grow for obj in c[10**4:] if obj.celltype==1 and obj.tb>400* params['dt'] * np.log(2)/params['lambda']]).reshape(-1,1)\n",
    "    kde1.fit(t1)\n",
    "    kde2.fit(t2)\n",
    "    y1=np.zeros(len(L))\n",
    "    y2=np.zeros(len(L))\n",
    "    t1m,t1std=np.mean(t1),np.std(t1)\n",
    "    xv1=np.concatenate((np.linspace(np.amax([0.0,t1m-3*t1std]),t1m+10*t1std, 5001), np.array(t1m+10*t1std*np.exp(np.linspace(np.log(5)/1000,np.log(5),1000)))),axis=0)\n",
    "    t2m,t2std=np.mean(t2),np.std(t2)\n",
    "    xv2=np.concatenate((np.linspace(np.amax([0.0,t2m-3*t2std]),t2m+10*t2std, 5001), np.array(t2m+10*t2std*np.exp(np.linspace(np.log(5)/1000,np.log(5),1000)))),axis=0)\n",
    "    for temp in range(len(L)):\n",
    "        y1[temp]=integrate.simps(np.exp(kde1.score_samples(xv1[:,None]))*np.exp(-L[temp]*xv1),xv1)\n",
    "        y2[temp]=integrate.simps(np.exp(kde2.score_samples(xv2[:,None]))*np.exp(-L[temp]*xv2),xv2)\n",
    "        if np.mod(temp,10)==0:\n",
    "            print 'Done L:', temp\n",
    "    output_val[inds[0],inds[1],inds[2],1]=L[np.argmin(np.absolute(y1/(1-y2)-1))] # calculating the value of L that fits\n",
    "    # for these parameter values\n",
    "    print 'I have done {0} parameter sets.'.format(i0+1), 'time taken:',time.time()-tic\n",
    "    print 'beta',beta[inds[0]], 'alpha',alpha[inds[1]], 'repeat {0}'.format(inds[2])\n",
    "    print output_val[inds[0],inds[1],inds[2],:]"
   ]
  },
  {
   "cell_type": "code",
   "execution_count": 42,
   "metadata": {},
   "outputs": [
    {
     "name": "stdout",
     "output_type": "stream",
     "text": [
      "Done L: 0\n",
      "Done L: 10\n",
      "Done L: 20\n",
      "Done L: 30\n",
      "Done L: 40\n",
      "Done L: 50\n",
      "Done L: 60\n",
      "I have done 1 parameter sets. time taken: 769.683954\n",
      "beta 0.3 alpha 1.0 repeat 0\n",
      "[0.97466241 0.9775    ]\n"
     ]
    }
   ],
   "source": [
    "bw=0.01\n",
    "# calculating the simulation population growth rate and storing it\n",
    "temp = scipy.stats.linregress(obs[1][400:], np.log(obs[12][400:]))\n",
    "output_val[inds[0],inds[1],inds[2],0]=temp[0]\n",
    "# calculating the kernel density estimation\n",
    "kde1= KernelDensity(bandwidth=bw,kernel='gaussian')\n",
    "kde2= KernelDensity(bandwidth=bw,kernel='gaussian')\n",
    "t1=np.array([obj.t_grow for obj in c[10**4:] if obj.celltype==0]).reshape(-1,1)\n",
    "t2=np.array([obj.t_grow for obj in c[10**4:] if obj.celltype==1]).reshape(-1,1)\n",
    "kde1.fit(t1)\n",
    "kde2.fit(t2)\n",
    "y1=np.zeros(len(L))\n",
    "y2=np.zeros(len(L))\n",
    "t1m,t1std=np.mean(t1),np.std(t1)\n",
    "xv1=np.concatenate((np.linspace(np.amax([0.0,t1m-3*t1std]),t1m+10*t1std, 5001), np.array(t1m+10*t1std*np.exp(np.linspace(np.log(5)/1000,np.log(5),1000)))),axis=0)\n",
    "t2m,t2std=np.mean(t2),np.std(t2)\n",
    "xv2=np.concatenate((np.linspace(np.amax([0.0,t2m-3*t2std]),t2m+10*t2std, 5001), np.array(t2m+10*t2std*np.exp(np.linspace(np.log(5)/1000,np.log(5),1000)))),axis=0)\n",
    "for temp in range(len(L)):\n",
    "    y1[temp]=integrate.simps(np.exp(kde1.score_samples(xv1[:,None]))*np.exp(-L[temp]*xv1),xv1)\n",
    "    y2[temp]=integrate.simps(np.exp(kde2.score_samples(xv2[:,None]))*np.exp(-L[temp]*xv2),xv2)\n",
    "    if np.mod(temp,10)==0:\n",
    "        print 'Done L:', temp\n",
    "output_val[inds[0],inds[1],inds[2],1]=L[np.argmin(np.absolute(y1/(1-y2)-1))] # calculating the value of L that fits\n",
    "# for these parameter values\n",
    "print 'I have done {0} parameter sets.'.format(i0+1), 'time taken:',time.time()-tic\n",
    "print 'beta',beta[inds[0]], 'alpha',alpha[inds[1]], 'repeat {0}'.format(inds[2])\n",
    "print output_val[inds[0],inds[1],inds[2],:]"
   ]
  },
  {
   "cell_type": "code",
   "execution_count": 43,
   "metadata": {},
   "outputs": [],
   "source": [
    "def jiseon_model_2(l, beta, sigma_l, alpha):\n",
    "    num = beta*np.log(2-2*alpha+alpha/beta)**2+(1-beta)*(np.log(2-2*alpha+alpha/(1-beta)))**2\n",
    "    denom = beta*np.log(2-2*alpha+alpha/beta)+(1-beta)*(np.log(2-2*alpha+alpha/(1-beta)))\n",
    "    return l*(1+sigma_l**2/l**2*(-1+0.5*num/denom))"
   ]
  },
  {
   "cell_type": "code",
   "execution_count": 47,
   "metadata": {},
   "outputs": [
    {
     "data": {
      "text/plain": [
       "array([0.965  , 0.96525, 0.9655 , 0.96575, 0.966  , 0.96625, 0.9665 ,\n",
       "       0.96675, 0.967  , 0.96725, 0.9675 , 0.96775, 0.968  , 0.96825,\n",
       "       0.9685 , 0.96875, 0.969  , 0.96925, 0.9695 , 0.96975, 0.97   ,\n",
       "       0.97025, 0.9705 , 0.97075, 0.971  , 0.97125, 0.9715 , 0.97175,\n",
       "       0.972  , 0.97225, 0.9725 , 0.97275, 0.973  , 0.97325, 0.9735 ,\n",
       "       0.97375, 0.974  , 0.97425, 0.9745 , 0.97475, 0.975  , 0.97525,\n",
       "       0.9755 , 0.97575, 0.976  , 0.97625, 0.9765 , 0.97675, 0.977  ,\n",
       "       0.97725, 0.9775 , 0.97775, 0.978  , 0.97825, 0.9785 , 0.97875,\n",
       "       0.979  , 0.97925, 0.9795 , 0.97975, 0.98   , 0.98025, 0.9805 ,\n",
       "       0.98075, 0.981  , 0.98125, 0.9815 , 0.98175, 0.982  , 0.98225,\n",
       "       0.9825 , 0.98275, 0.983  , 0.98325, 0.9835 , 0.98375, 0.984  ,\n",
       "       0.98425, 0.9845 , 0.98475, 0.985  , 0.98525, 0.9855 , 0.98575,\n",
       "       0.986  , 0.98625, 0.9865 , 0.98675, 0.987  , 0.98725, 0.9875 ,\n",
       "       0.98775, 0.988  , 0.98825, 0.9885 , 0.98875, 0.989  , 0.98925,\n",
       "       0.9895 , 0.98975, 0.99   , 0.99025, 0.9905 , 0.99075, 0.991  ,\n",
       "       0.99125, 0.9915 , 0.99175, 0.992  , 0.99225, 0.9925 , 0.99275,\n",
       "       0.993  , 0.99325, 0.9935 , 0.99375, 0.994  , 0.99425, 0.9945 ,\n",
       "       0.99475, 0.995  , 0.99525, 0.9955 , 0.99575, 0.996  , 0.99625,\n",
       "       0.9965 , 0.99675, 0.997  , 0.99725, 0.9975 , 0.99775, 0.998  ,\n",
       "       0.99825, 0.9985 , 0.99875, 0.999  , 0.99925, 0.9995 , 0.99975,\n",
       "       1.     ])"
      ]
     },
     "execution_count": 47,
     "metadata": {},
     "output_type": "execute_result"
    }
   ],
   "source": [
    "np.linspace(0.965,1.0,141)"
   ]
  },
  {
   "cell_type": "code",
   "execution_count": 39,
   "metadata": {},
   "outputs": [
    {
     "data": {
      "image/png": "[encoded data removed]",
      "text/plain": [
       "<Figure size 432x288 with 1 Axes>"
      ]
     },
     "metadata": {
      "needs_background": "light"
     },
     "output_type": "display_data"
    },
    {
     "name": "stdout",
     "output_type": "stream",
     "text": [
      "3.58745217323\n"
     ]
    }
   ],
   "source": [
    "t1m,t1std=np.mean(t1),np.std(t1)\n",
    "xv1=np.concatenate((np.linspace(np.amax([0.0,t1m-3*t1std]),t1m+10*t1std, 5001), np.array(t1m+10*t1std*np.exp(np.linspace(np.log(5)/1000,np.log(5),1000)))),axis=0)\n",
    "# bw = 0.001\n",
    "L=np.linspace(0.97,1.0,61)\n",
    "tic=time.time()\n",
    "plt.plot(xv1,np.exp(kde1.score_samples(xv1[:,None])),label='Mothers')\n",
    "sns.distplot(t1)\n",
    "# plt.plot(xv1,np.exp(kde2.score_samples(xv1[:,None])),label='Daughters')\n",
    "plt.legend()\n",
    "plt.xlim(left=0.0,right=2.0)\n",
    "plt.show()\n",
    "print time.time()-tic"
   ]
  },
  {
   "cell_type": "code",
   "execution_count": 40,
   "metadata": {},
   "outputs": [
    {
     "data": {
      "image/png": "[encoded data removed]",
      "text/plain": [
       "<Figure size 432x288 with 1 Axes>"
      ]
     },
     "metadata": {
      "needs_background": "light"
     },
     "output_type": "display_data"
    },
    {
     "name": "stdout",
     "output_type": "stream",
     "text": [
      "3.94308996201\n"
     ]
    }
   ],
   "source": [
    "t1m,t1std=np.mean(t1),np.std(t1)\n",
    "xv1=np.concatenate((np.linspace(np.amax([0.0,t1m-3*t1std]),t1m+10*t1std, 5001), np.array(t1m+10*t1std*np.exp(np.linspace(np.log(5)/1000,np.log(5),1000)))),axis=0)\n",
    "bw = 0.001\n",
    "L=np.linspace(0.97,1.0,61)\n",
    "tic=time.time()\n",
    "# plt.plot(xv1,np.exp(kde1.score_samples(xv1[:,None])),label='Mothers')\n",
    "sns.distplot(t2)\n",
    "plt.plot(xv1,np.exp(kde2.score_samples(xv1[:,None])),label='Daughters')\n",
    "plt.legend()\n",
    "plt.xlim(left=0.0,right=3.0)\n",
    "plt.show()\n",
    "print time.time()-tic"
   ]
  },
  {
   "cell_type": "code",
   "execution_count": 31,
   "metadata": {},
   "outputs": [
    {
     "data": {
      "text/plain": [
       "KernelDensity(algorithm='auto', atol=0, bandwidth=0.01, breadth_first=True,\n",
       "       kernel='gaussian', leaf_size=40, metric='euclidean',\n",
       "       metric_params=None, rtol=0)"
      ]
     },
     "execution_count": 31,
     "metadata": {},
     "output_type": "execute_result"
    }
   ],
   "source": [
    "bw=0.01\n",
    "kde1= KernelDensity(bandwidth=bw,kernel='gaussian')\n",
    "kde2= KernelDensity(bandwidth=bw,kernel='gaussian')\n",
    "t1=np.array([obj.t_grow for obj in c if obj.celltype==0 and obj.tb>400* params['dt'] * np.log(2)/params['lambda']]).reshape(-1,1)\n",
    "t2=np.array([obj.t_grow for obj in c if obj.celltype==1 and obj.tb>400* params['dt'] * np.log(2)/params['lambda']]).reshape(-1,1)\n",
    "kde1.fit(t1)\n",
    "kde2.fit(t2)"
   ]
  },
  {
   "cell_type": "code",
   "execution_count": 34,
   "metadata": {
    "scrolled": true
   },
   "outputs": [
    {
     "name": "stdout",
     "output_type": "stream",
     "text": [
      "Done L: 0\n",
      "Done L: 10\n",
      "Done L: 20\n",
      "Done L: 30\n",
      "Done L: 40\n",
      "Done L: 50\n",
      "Done L: 60\n"
     ]
    }
   ],
   "source": [
    "y1=np.zeros(len(L))\n",
    "y2=np.zeros(len(L))\n",
    "t1m,t1std=np.mean(t1),np.std(t1)\n",
    "xv1=np.concatenate((np.linspace(np.amax([0.0,t1m-3*t1std]),t1m+10*t1std, 5001), np.array(t1m+10*t1std*np.exp(np.linspace(np.log(5)/1000,np.log(5),1000)))),axis=0)\n",
    "t2m,t2std=np.mean(t2),np.std(t2)\n",
    "xv2=np.concatenate((np.linspace(np.amax([0.0,t2m-3*t2std]),t2m+10*t2std, 5001), np.array(t2m+10*t2std*np.exp(np.linspace(np.log(5)/1000,np.log(5),1000)))),axis=0)\n",
    "for temp in range(len(L)):\n",
    "    y1[temp]=integrate.simps(np.exp(kde1.score_samples(xv1[:,None]))*np.exp(-L[temp]*xv1),xv1)\n",
    "    y2[temp]=integrate.simps(np.exp(kde2.score_samples(xv2[:,None]))*np.exp(-L[temp]*xv2),xv2)\n",
    "    if np.mod(temp,10)==0:\n",
    "        print 'Done L:', temp\n",
    "output_val[inds[0],inds[1],inds[2],1]=L[np.argmin(np.absolute(y1/(1-y2)-1))] # calculating the value of L that fits"
   ]
  },
  {
   "cell_type": "code",
   "execution_count": 35,
   "metadata": {},
   "outputs": [
    {
     "data": {
      "text/plain": [
       "array([[[[0.97272012, 0.97      ]]]])"
      ]
     },
     "execution_count": 35,
     "metadata": {},
     "output_type": "execute_result"
    }
   ],
   "source": [
    "output_val"
   ]
  },
  {
   "cell_type": "code",
   "execution_count": 36,
   "metadata": {},
   "outputs": [
    {
     "data": {
      "text/plain": [
       "array([0.00954797, 0.01015693, 0.01076525, 0.01137296, 0.01198005,\n",
       "       0.01258652, 0.01319237, 0.0137976 , 0.01440222, 0.01500622,\n",
       "       0.01560961, 0.01621238, 0.01681454, 0.01741608, 0.01801702,\n",
       "       0.01861735, 0.01921707, 0.01981618, 0.02041468, 0.02101257,\n",
       "       0.02160986, 0.02220655, 0.02280263, 0.02339811, 0.02399299,\n",
       "       0.02458727, 0.02518095, 0.02577403, 0.02636651, 0.02695839,\n",
       "       0.02754968, 0.02814037, 0.02873047, 0.02931997, 0.02990889,\n",
       "       0.03049721, 0.03108494, 0.03167208, 0.03225863, 0.03284459,\n",
       "       0.03342996, 0.03401475, 0.03459895, 0.03518257, 0.03576561,\n",
       "       0.03634806, 0.03692993, 0.03751122, 0.03809192, 0.03867205,\n",
       "       0.0392516 , 0.03983058, 0.04040897, 0.04098679, 0.04156404,\n",
       "       0.04214071, 0.0427168 , 0.04329233, 0.04386728, 0.04444166,\n",
       "       0.04501548])"
      ]
     },
     "execution_count": 36,
     "metadata": {},
     "output_type": "execute_result"
    }
   ],
   "source": [
    "np.absolute(y1/(1-y2)-1)"
   ]
  },
  {
   "cell_type": "code",
   "execution_count": null,
   "metadata": {},
   "outputs": [],
   "source": []
  }
 ],
 "metadata": {
  "kernelspec": {
   "display_name": "Python 2",
   "language": "python",
   "name": "python2"
  },
  "language_info": {
   "codemirror_mode": {
    "name": "ipython",
    "version": 2
   },
   "file_extension": ".py",
   "mimetype": "text/x-python",
   "name": "python",
   "nbconvert_exporter": "python",
   "pygments_lexer": "ipython2",
   "version": "2.7.17"
  }
 },
 "nbformat": 4,
 "nbformat_minor": 2
}
